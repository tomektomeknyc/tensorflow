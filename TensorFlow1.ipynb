{
  "nbformat": 4,
  "nbformat_minor": 0,
  "metadata": {
    "colab": {
      "name": "TensorFlow1.ipynb",
      "provenance": [],
      "collapsed_sections": [],
      "toc_visible": true
    },
    "kernelspec": {
      "name": "python3",
      "display_name": "Python 3"
    },
    "language_info": {
      "name": "python"
    }
  },
  "cells": [
    {
      "cell_type": "markdown",
      "source": [
        "###Introduction to Tensors\n",
        "### Getting info from Tensors\n",
        "###Manipulating Tensors\n",
        "###Tensors & Numpy\n",
        "###Using @tf.function (a way to speed up your regular Python functions)\n",
        "###Using GPUs with TensorFlow or TPUs\n",
        "###Excercises\n",
        "\n",
        "\n"
      ],
      "metadata": {
        "id": "pRXuh5fHT-Oh"
      }
    },
    {
      "cell_type": "code",
      "source": [
        "#import Tensorflow\n",
        "import tensorflow as tf\n",
        "print(tf.__version__)"
      ],
      "metadata": {
        "colab": {
          "base_uri": "https://localhost:8080/"
        },
        "id": "yJ0Sa1Y5VfDj",
        "outputId": "a01b88a6-ef02-4692-d659-aa3ee348633d"
      },
      "execution_count": 4,
      "outputs": [
        {
          "output_type": "stream",
          "name": "stdout",
          "text": [
            "2.8.0\n"
          ]
        }
      ]
    },
    {
      "cell_type": "code",
      "source": [
        ""
      ],
      "metadata": {
        "id": "1i5E1j-fVgoc"
      },
      "execution_count": null,
      "outputs": []
    }
  ]
}